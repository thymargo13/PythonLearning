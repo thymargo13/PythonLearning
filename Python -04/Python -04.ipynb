{
 "cells": [
  {
   "cell_type": "markdown",
   "metadata": {},
   "source": [
    "# Python -04\n",
    "for, while , def ,if"
   ]
  },
  {
   "cell_type": "markdown",
   "metadata": {},
   "source": [
    "## if \n",
    "example \n",
    "if condition :\n",
    "    code"
   ]
  },
  {
   "cell_type": "code",
   "execution_count": 1,
   "metadata": {},
   "outputs": [
    {
     "name": "stdout",
     "output_type": "stream",
     "text": [
      "1\n"
     ]
    }
   ],
   "source": [
    "x, y =  1,2\n",
    "if x > y:\n",
    "    z = x + y\n",
    "else:\n",
    "    z = y - x\n",
    "print(z)"
   ]
  },
  {
   "cell_type": "code",
   "execution_count": 4,
   "metadata": {},
   "outputs": [
    {
     "name": "stdout",
     "output_type": "stream",
     "text": [
      "hhh\n"
     ]
    }
   ],
   "source": [
    "x, y = 2,5\n",
    "if x > y:\n",
    "    print('hello')\n",
    "elif x == y :\n",
    "    print('xxxx')\n",
    "elif x == y-3:\n",
    "    print('hhh')\n",
    "else:\n",
    "    print('bye')"
   ]
  },
  {
   "cell_type": "code",
   "execution_count": 9,
   "metadata": {},
   "outputs": [
    {
     "name": "stdout",
     "output_type": "stream",
     "text": [
      "yes\n"
     ]
    }
   ],
   "source": [
    "m = {1,2,3,2,4,5} # m = {[1,2,3,4,5,2]} type: SET\n",
    "if 3 in x:\n",
    "    print('yes')\n",
    "elif 2 in x:\n",
    "    print('okay')\n",
    "else:\n",
    "    print('no')"
   ]
  },
  {
   "cell_type": "markdown",
   "metadata": {},
   "source": [
    "## For\n",
    "example\n",
    "for in sth:\n",
    "    code"
   ]
  },
  {
   "cell_type": "code",
   "execution_count": 10,
   "metadata": {},
   "outputs": [
    {
     "name": "stdout",
     "output_type": "stream",
     "text": [
      "1\n",
      "2\n",
      "3\n",
      "4\n",
      "5\n"
     ]
    }
   ],
   "source": [
    "for i in range(1,6): # range(start, b4 stop)\n",
    "    print(i)"
   ]
  },
  {
   "cell_type": "code",
   "execution_count": 13,
   "metadata": {},
   "outputs": [
    {
     "name": "stdout",
     "output_type": "stream",
     "text": [
      "0\n",
      "1\n",
      "2\n",
      "3\n"
     ]
    }
   ],
   "source": [
    "for i in range(4): from 0 to 4 excluded 4\n",
    "    print(i)"
   ]
  },
  {
   "cell_type": "code",
   "execution_count": 12,
   "metadata": {},
   "outputs": [
    {
     "name": "stdout",
     "output_type": "stream",
     "text": [
      "1\n",
      "2\n",
      "13\n",
      "14\n"
     ]
    }
   ],
   "source": [
    "x = [1,2,13,14]\n",
    "for i in [0,1,2,3]:\n",
    "    print(x[i])"
   ]
  },
  {
   "cell_type": "code",
   "execution_count": 16,
   "metadata": {},
   "outputs": [
    {
     "name": "stdout",
     "output_type": "stream",
     "text": [
      "i 0\n",
      "x 1\n",
      "-------\n",
      "i 1\n",
      "x 2\n",
      "-------\n",
      "i 2\n",
      "x 13\n",
      "-------\n",
      "i 3\n",
      "x 14\n",
      "-------\n"
     ]
    }
   ],
   "source": [
    "for i in range(len(x)):\n",
    "    print('i',i)\n",
    "    print('x',x[i])\n",
    "    print('-------')"
   ]
  },
  {
   "cell_type": "code",
   "execution_count": 18,
   "metadata": {},
   "outputs": [
    {
     "name": "stdout",
     "output_type": "stream",
     "text": [
      "h\n",
      "--------\n",
      "e\n",
      "--------\n",
      "1\n",
      "--------\n",
      "2\n",
      "--------\n",
      "3\n",
      "--------\n",
      "4\n",
      "--------\n",
      "_\n",
      "--------\n",
      " \n",
      "--------\n",
      "l\n",
      "--------\n",
      "l\n",
      "--------\n",
      "o\n",
      "--------\n"
     ]
    }
   ],
   "source": [
    "x = 'he1234_ llo'\n",
    "for i in x:\n",
    "    print(i)\n",
    "    print('--------')"
   ]
  },
  {
   "cell_type": "code",
   "execution_count": 19,
   "metadata": {},
   "outputs": [
    {
     "name": "stdout",
     "output_type": "stream",
     "text": [
      "1 in the set\n",
      "4 not in set\n",
      "5 in the set\n",
      "17 not in set\n"
     ]
    }
   ],
   "source": [
    "s = {1,3,5,6,7,12,13}\n",
    "x = [1,4,5,17]\n",
    "for i in x:\n",
    "    if i in s:\n",
    "        print(i, \"in the set\")\n",
    "    else:\n",
    "        print(i, 'not in set')"
   ]
  },
  {
   "cell_type": "markdown",
   "metadata": {},
   "source": [
    "## While\n",
    "#### while v.s for loop\n",
    "A For statement checks if an expression is True or False.\n",
    "and then runs the code inside the statement only if it is true The code inside the loop is only run once\n",
    "A while statement is a loop.Basically, it continues to executes the code in the wile statement for howeverlong the expression is true\n",
    "\n",
    "e.g. "
   ]
  },
  {
   "cell_type": "code",
   "execution_count": 20,
   "metadata": {},
   "outputs": [
    {
     "ename": "KeyboardInterrupt",
     "evalue": "",
     "output_type": "error",
     "traceback": [
      "\u001b[0;31m---------------------------------------------------------------------------\u001b[0m",
      "\u001b[0;31mKeyboardInterrupt\u001b[0m                         Traceback (most recent call last)",
      "\u001b[0;32m<ipython-input-20-d400190cc2a2>\u001b[0m in \u001b[0;36m<module>\u001b[0;34m\u001b[0m\n\u001b[1;32m      1\u001b[0m \u001b[0mi\u001b[0m \u001b[0;34m=\u001b[0m \u001b[0;36m1\u001b[0m\u001b[0;34m\u001b[0m\u001b[0m\n\u001b[0;32m----> 2\u001b[0;31m \u001b[0;32mwhile\u001b[0m \u001b[0mi\u001b[0m\u001b[0;34m==\u001b[0m\u001b[0;36m1\u001b[0m\u001b[0;34m:\u001b[0m\u001b[0;34m\u001b[0m\u001b[0m\n\u001b[0m\u001b[1;32m      3\u001b[0m     \u001b[0mi\u001b[0m\u001b[0;34m=\u001b[0m\u001b[0;36m1\u001b[0m\u001b[0;34m\u001b[0m\u001b[0m\n\u001b[1;32m      4\u001b[0m \u001b[0mi\u001b[0m\u001b[0;34m\u001b[0m\u001b[0m\n",
      "\u001b[0;31mKeyboardInterrupt\u001b[0m: "
     ]
    }
   ],
   "source": [
    "i = 1 #infinity loop\n",
    "while i==1:\n",
    "    i=1\n",
    "i"
   ]
  },
  {
   "cell_type": "markdown",
   "metadata": {},
   "source": [
    "i = 1\n",
    "while i == 1:\n",
    "    i +=1\n",
    "i"
   ]
  },
  {
   "cell_type": "code",
   "execution_count": 27,
   "metadata": {},
   "outputs": [
    {
     "name": "stdout",
     "output_type": "stream",
     "text": [
      "0\n",
      "x has value 1 smaller then 3\n",
      "1\n",
      "x has value 2 smaller then 4\n",
      "2\n",
      "x has value 3 smaller then 5\n",
      "3\n",
      "y has value 2 smaller then 4\n",
      "4\n",
      "y has value 1 smaller then 5\n"
     ]
    }
   ],
   "source": [
    "i = 0\n",
    "x = [1,2,3,4,5]\n",
    "y = [3,4,5,2,1]\n",
    "while i < len(x):\n",
    "    print(i)\n",
    "    x_ = x[i]\n",
    "    y_ = y[i]\n",
    "    if x_ < y_:\n",
    "        print('x has value %d smaller then %d'%(x_,y_))\n",
    "    else:\n",
    "        print('y has value %d smaller then %d'%(y_,x_))\n",
    "    i += 1\n"
   ]
  },
  {
   "cell_type": "markdown",
   "metadata": {},
   "source": [
    "## def --> function\n",
    "def name (parameter1,..):\n",
    "    code\n",
    "    return sth"
   ]
  },
  {
   "cell_type": "code",
   "execution_count": 28,
   "metadata": {},
   "outputs": [
    {
     "data": {
      "text/plain": [
       "7"
      ]
     },
     "execution_count": 28,
     "metadata": {},
     "output_type": "execute_result"
    }
   ],
   "source": [
    "def add (x,y):\n",
    "    return(x+y)\n",
    "add(3,4)"
   ]
  },
  {
   "cell_type": "code",
   "execution_count": 31,
   "metadata": {},
   "outputs": [
    {
     "name": "stdout",
     "output_type": "stream",
     "text": [
      "x: 1 y: 2 z: 3\n"
     ]
    },
    {
     "data": {
      "text/plain": [
       "(1, 2, 3)"
      ]
     },
     "execution_count": 31,
     "metadata": {},
     "output_type": "execute_result"
    }
   ],
   "source": [
    "def product (x,y,z):\n",
    "    print('x:',x,'y:',y,'z:',z)\n",
    "    return(x,y,z)\n",
    "product(1,2,3)"
   ]
  },
  {
   "cell_type": "code",
   "execution_count": 33,
   "metadata": {},
   "outputs": [
    {
     "name": "stdout",
     "output_type": "stream",
     "text": [
      "0\n",
      "x has value 1 smaller then 5\n",
      "1\n",
      "y has value 1 smaller then 2\n",
      "2\n",
      "x has value 3 smaller then 6\n",
      "3\n",
      "x has value 4 smaller then 7\n"
     ]
    }
   ],
   "source": [
    "def compare_xy(x,y):\n",
    "    i = 0 \n",
    "    while i < len(x):\n",
    "        print(i)\n",
    "        x_ = x[i]\n",
    "        y_ = y[i]\n",
    "        if x_ < y_:\n",
    "            print('x has value %d smaller then %d'%(x_,y_))\n",
    "        else:\n",
    "             print('y has value %d smaller then %d'%(y_,x_))\n",
    "        i += 1\n",
    "x = [1,2,3,4]\n",
    "y = [5,1,6,7]\n",
    "compare_xy(x,y)"
   ]
  },
  {
   "cell_type": "markdown",
   "metadata": {},
   "source": [
    "### Exercise 1"
   ]
  },
  {
   "cell_type": "code",
   "execution_count": 56,
   "metadata": {},
   "outputs": [
    {
     "name": "stdout",
     "output_type": "stream",
     "text": [
      "*\n",
      "**\n",
      "***\n",
      "****\n",
      "*****\n"
     ]
    }
   ],
   "source": [
    "star = '*'\n",
    "row = 0\n",
    "for col in range(1,6):  \n",
    "    while row < col:\n",
    "        print(star*(row+1))\n",
    "        row +=1"
   ]
  },
  {
   "cell_type": "code",
   "execution_count": 58,
   "metadata": {},
   "outputs": [
    {
     "name": "stdout",
     "output_type": "stream",
     "text": [
      "*****\n",
      "****\n",
      "***\n",
      "**\n",
      "*\n"
     ]
    }
   ],
   "source": [
    "star = '*'\n",
    "row = 6\n",
    "for col in range(1,6):\n",
    "    while row > col:\n",
    "        print(star*(row-1))\n",
    "        row -=1"
   ]
  },
  {
   "cell_type": "markdown",
   "metadata": {},
   "source": [
    "### Exercise 2"
   ]
  },
  {
   "cell_type": "code",
   "execution_count": 132,
   "metadata": {},
   "outputs": [
    {
     "name": "stdout",
     "output_type": "stream",
     "text": [
      "3\n",
      "2\n",
      "2\n",
      "4\n",
      "0\n",
      "0\n",
      "1\n"
     ]
    }
   ],
   "source": [
    "#2.1\n",
    "L = [7,3,2,6,4,0,1,5]\n",
    "n = len(L)\n",
    "for j in range(0, n-1):\n",
    "    if L[j] > L[j+1]:\n",
    "        print(L[j+1])\n",
    "    else:\n",
    "        print(L[j])"
   ]
  },
  {
   "cell_type": "code",
   "execution_count": 112,
   "metadata": {},
   "outputs": [
    {
     "data": {
      "text/plain": [
       "[3, 2, 6, 4, 0, 1, 5, 7]"
      ]
     },
     "execution_count": 112,
     "metadata": {},
     "output_type": "execute_result"
    }
   ],
   "source": [
    "for i in range(0,n-1):\n",
    "    if L[i] > L[i+1]:\n",
    "        L[i],L[i+1] = L[i+1], L[i]\n",
    "L"
   ]
  },
  {
   "cell_type": "code",
   "execution_count": 130,
   "metadata": {},
   "outputs": [
    {
     "data": {
      "text/plain": [
       "[0, 1, 2, 3, 4, 5, 6, 7]"
      ]
     },
     "execution_count": 130,
     "metadata": {},
     "output_type": "execute_result"
    }
   ],
   "source": [
    "def bubble_sort(L):\n",
    "    n = len(L)\n",
    "    for i in range(n): # 0,1,2,3,4,5,6,7\n",
    "        for j in range(0, n-i-1): # [0-7][0-6][0-5],,,[0]\n",
    "            if L[j] > L[j+1]:\n",
    "                L[j],L[j+1] = L[j+1], L[j]\n",
    "    return L\n",
    "bubble_sort(L)\n",
    "L"
   ]
  },
  {
   "cell_type": "markdown",
   "metadata": {},
   "source": [
    "### Exercise 3"
   ]
  },
  {
   "cell_type": "code",
   "execution_count": 114,
   "metadata": {},
   "outputs": [
    {
     "name": "stdout",
     "output_type": "stream",
     "text": [
      "1\n"
     ]
    }
   ],
   "source": [
    "for i in range(1,10):\n",
    "    if i%2 ==0:\n",
    "        break\n",
    "    print(i)"
   ]
  },
  {
   "cell_type": "code",
   "execution_count": 115,
   "metadata": {},
   "outputs": [
    {
     "name": "stdout",
     "output_type": "stream",
     "text": [
      "1\n",
      "3\n",
      "5\n",
      "7\n",
      "9\n"
     ]
    }
   ],
   "source": [
    "for i in range(1,10):\n",
    "    if i%2 ==0:\n",
    "        continue\n",
    "    print(i)"
   ]
  },
  {
   "cell_type": "code",
   "execution_count": 116,
   "metadata": {},
   "outputs": [
    {
     "name": "stdout",
     "output_type": "stream",
     "text": [
      "1\n",
      "2\n",
      "3\n",
      "4\n",
      "5\n",
      "6\n",
      "7\n",
      "8\n",
      "9\n"
     ]
    }
   ],
   "source": [
    "for i in range(1,10):\n",
    "    if i%2 ==0:\n",
    "        pass\n",
    "    print(i)"
   ]
  },
  {
   "cell_type": "code",
   "execution_count": 137,
   "metadata": {},
   "outputs": [
    {
     "data": {
      "text/plain": [
       "[0, 1, 2, 3, 4, 5, 6, 7]"
      ]
     },
     "execution_count": 137,
     "metadata": {},
     "output_type": "execute_result"
    }
   ],
   "source": [
    "def bubble_sort(L):\n",
    "    n = len(L)\n",
    "    swaped = False\n",
    "    for i in range(n): # 0,1,2,3,4,5,6,7\n",
    "        for j in range(0, n-i-1): # [0-7][0-6][0-5],,,[0]\n",
    "            if L[j] > L[j+1]: # L[0] > L[1]...\n",
    "                L[j],L[j+1] = L[j+1], L[j]\n",
    "                swaped = True\n",
    "        if(not swaped):\n",
    "            break\n",
    "               \n",
    "    return L\n",
    "bubble_sort(L)"
   ]
  },
  {
   "cell_type": "code",
   "execution_count": null,
   "metadata": {},
   "outputs": [],
   "source": []
  }
 ],
 "metadata": {
  "kernelspec": {
   "display_name": "Python 3",
   "language": "python",
   "name": "python3"
  },
  "language_info": {
   "codemirror_mode": {
    "name": "ipython",
    "version": 3
   },
   "file_extension": ".py",
   "mimetype": "text/x-python",
   "name": "python",
   "nbconvert_exporter": "python",
   "pygments_lexer": "ipython3",
   "version": "3.6.6"
  }
 },
 "nbformat": 4,
 "nbformat_minor": 2
}
