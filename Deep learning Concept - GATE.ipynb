{
 "cells": [
  {
   "cell_type": "code",
   "execution_count": 11,
   "metadata": {},
   "outputs": [],
   "source": [
    "import numpy as np\n",
    "\n",
    "####################\n",
    "#   x1  x2   y     #\n",
    "#   0   0    0     #\n",
    "#   0   1    1     #\n",
    "#   1   0    1     #\n",
    "#   1   1    0     #\n",
    "####################\n",
    "def OR (x1,x2):\n",
    "    x = np.array([x1,x2])\n",
    "    w = np.array([0.5,0.5])#weight\n",
    "    b = -0.2 #bias\n",
    "    tmp = np.sum(w*x) + b \n",
    "    if tmp <= 0:\n",
    "        return 0\n",
    "    else:\n",
    "        return 1\n",
    "\n",
    "\n",
    "####################\n",
    "#   x1  x2   y     #\n",
    "#   0   0    1     #\n",
    "#   0   1    0     #\n",
    "#   1   0    0     #\n",
    "#   1   1    1     #\n",
    "####################\n",
    "def AND (x1,x2):\n",
    "    x = np.array([x1,x2])\n",
    "    w = np.array([0.5,0.5])#weight\n",
    "    b = -0.7 #bias\n",
    "    tmp = np.sum(w*x) + b \n",
    "    if tmp <= 0:\n",
    "        return 0\n",
    "    else:\n",
    "        return 1\n",
    "\n",
    "####################\n",
    "#   x1  x2   y     #\n",
    "#   0   0    1     #\n",
    "#   0   1    1     #\n",
    "#   1   0    1     #\n",
    "#   1   1    0     #\n",
    "####################\n",
    "def NAND (x1,x2):\n",
    "    x = np.array([x1,x2])\n",
    "    w = np.array([-0.5,-0.5])#weight\n",
    "    b = 0.7 #bias\n",
    "    tmp = np.sum(w*x) + b \n",
    "    if tmp <= 0:\n",
    "        return 0\n",
    "    else:\n",
    "        return 1\n"
   ]
  },
  {
   "cell_type": "code",
   "execution_count": null,
   "metadata": {},
   "outputs": [],
   "source": []
  }
 ],
 "metadata": {
  "kernelspec": {
   "display_name": "Python 3",
   "language": "python",
   "name": "python3"
  },
  "language_info": {
   "codemirror_mode": {
    "name": "ipython",
    "version": 3
   },
   "file_extension": ".py",
   "mimetype": "text/x-python",
   "name": "python",
   "nbconvert_exporter": "python",
   "pygments_lexer": "ipython3",
   "version": "3.6.6"
  }
 },
 "nbformat": 4,
 "nbformat_minor": 2
}
