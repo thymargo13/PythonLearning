{
 "cells": [
  {
   "cell_type": "markdown",
   "metadata": {},
   "source": [
    "## Question 1\n",
    "calucate the sum of integer which can be divided by 3 or 5 within 1000"
   ]
  },
  {
   "cell_type": "code",
   "execution_count": 2,
   "metadata": {},
   "outputs": [
    {
     "name": "stdout",
     "output_type": "stream",
     "text": [
      "233168\n"
     ]
    }
   ],
   "source": [
    "# method 1\n",
    "ans = 0\n",
    "for i in range(1,1000):\n",
    "    if(i%3==0 or i%5==0):\n",
    "        ans += i \n",
    "print(ans)"
   ]
  },
  {
   "cell_type": "code",
   "execution_count": 14,
   "metadata": {},
   "outputs": [
    {
     "name": "stdout",
     "output_type": "stream",
     "text": [
      "233168\n"
     ]
    }
   ],
   "source": [
    "# method 2\n",
    "print(sum([i for i in range(1,1000)if i %3 ==0 or i% 5 ==0]))"
   ]
  },
  {
   "cell_type": "code",
   "execution_count": 15,
   "metadata": {},
   "outputs": [
    {
     "name": "stdout",
     "output_type": "stream",
     "text": [
      "233168\n"
     ]
    }
   ],
   "source": [
    "# method 3\n",
    "print( sum( i for i in range(1,1000) if i%3 ==0 or i%5 ==0))"
   ]
  },
  {
   "cell_type": "markdown",
   "metadata": {},
   "source": [
    "## Question 2\n",
    "e.g. \n",
    "nums = [1,6,6,3,6,2,10,2,100] , remove_num = 6\n",
    "return = [1,2,3,10,100]"
   ]
  },
  {
   "cell_type": "code",
   "execution_count": 9,
   "metadata": {},
   "outputs": [
    {
     "data": {
      "text/plain": [
       "[1, 2, 3, 10, 100]"
      ]
     },
     "execution_count": 9,
     "metadata": {},
     "output_type": "execute_result"
    }
   ],
   "source": [
    "nums = [1,6,6,3,6,2,10,2,100]\n",
    "nums = set(nums)\n",
    "nums.remove(6)\n",
    "nums = list(sorted(nums))\n",
    "nums"
   ]
  },
  {
   "cell_type": "code",
   "execution_count": 17,
   "metadata": {},
   "outputs": [
    {
     "data": {
      "text/plain": [
       "[1, 2, 2, 3, 10, 100]"
      ]
     },
     "execution_count": 17,
     "metadata": {},
     "output_type": "execute_result"
    }
   ],
   "source": [
    "# method 2\n",
    "sorted( filter( lambda n:n !=6, [1,6,6,3,6,2,10,2,100]))"
   ]
  },
  {
   "cell_type": "markdown",
   "metadata": {},
   "source": [
    "## Question 3\n",
    "remove duplicate in a list"
   ]
  },
  {
   "cell_type": "code",
   "execution_count": 11,
   "metadata": {},
   "outputs": [
    {
     "data": {
      "text/plain": [
       "[1, 3, 5, 8, 10, 100]"
      ]
     },
     "execution_count": 11,
     "metadata": {},
     "output_type": "execute_result"
    }
   ],
   "source": [
    "nums = [1,3,3,5,5,8,10,10,100,100]\n",
    "nums = list(sorted(set(nums)))\n",
    "nums"
   ]
  },
  {
   "cell_type": "markdown",
   "metadata": {},
   "source": [
    "## Question 4\n",
    "in a sorted list, remove duplicate > 2"
   ]
  },
  {
   "cell_type": "code",
   "execution_count": 13,
   "metadata": {},
   "outputs": [
    {
     "data": {
      "text/plain": [
       "[1, 1, 2, 2, 3]"
      ]
     },
     "execution_count": 13,
     "metadata": {},
     "output_type": "execute_result"
    }
   ],
   "source": [
    "nums = [1,1,1,2,2,3]\n",
    "for i in nums:\n",
    "    if nums.count(i) > 2:\n",
    "        nums.remove(i)\n",
    "nums"
   ]
  },
  {
   "cell_type": "markdown",
   "metadata": {},
   "source": [
    "## Question 5 "
   ]
  },
  {
   "cell_type": "code",
   "execution_count": 18,
   "metadata": {},
   "outputs": [
    {
     "data": {
      "text/plain": [
       "True"
      ]
     },
     "execution_count": 18,
     "metadata": {},
     "output_type": "execute_result"
    }
   ],
   "source": [
    "def problem5(src_str, des_str):\n",
    "    new_str = src_str + des_str\n",
    "    return True if des_str in new_str else False\n",
    "problem5(\"AABBCD\",\"CDAA\")"
   ]
  },
  {
   "cell_type": "markdown",
   "metadata": {},
   "source": [
    "## Question 6\n"
   ]
  },
  {
   "cell_type": "code",
   "execution_count": 24,
   "metadata": {},
   "outputs": [
    {
     "name": "stdout",
     "output_type": "stream",
     "text": [
      "cabw\n"
     ]
    }
   ],
   "source": [
    "chars = \"abcabwbbd\"\n",
    "#chars = 'abcabcbb'\n",
    "#chars = 'bbbbb'\n",
    "#chars = 'pwwkew'\n",
    "#chars = 'abcdeabc'\n",
    "\n",
    "def max_unique_str(chars):\n",
    "    for i in range(len(chars)):\n",
    "        contain = []\n",
    "        contain.append(chars[i])\n",
    "        for j in range(i+1, len(chars)):\n",
    "            if chars[j] in contain:\n",
    "                yield contain\n",
    "                break\n",
    "            else:\n",
    "                contain.append(chars[j])\n",
    "                \n",
    "res = list(max_unique_str(chars))\n",
    "if res:\n",
    "    print(sorted([''.join(x) for x in res], key= lambda x : len(x), reverse=True)[0])\n",
    "else:\n",
    "    print('Not find')"
   ]
  },
  {
   "cell_type": "markdown",
   "metadata": {},
   "source": [
    "## Question 7\n",
    "#### filter a name list to be e.g 'Lao wang'\n",
    "#### count which name has the longest length\n",
    "#### count the same surname and print it "
   ]
  },
  {
   "cell_type": "code",
   "execution_count": 52,
   "metadata": {},
   "outputs": [],
   "source": [
    "names = \"LI XIA, ZHAO MING ,LAO WANG *,DA XIONG >,LI MEI MEI,\"\\\n",
    "        \"CHANG JIANG,LI QIANG,ZHANG WU JI,ZHANG SAN FENG,\"\\\n",
    "        \"DU GU QIU BAI,QIAO FENG\""
   ]
  },
  {
   "cell_type": "code",
   "execution_count": 53,
   "metadata": {},
   "outputs": [
    {
     "data": {
      "text/plain": [
       "'LI XIA, ZHAO MING ,LAO WANG *,DA XIONG >,LI MEI MEI,CHANG JIANG,LI QIANG,ZHANG WU JI,ZHANG SAN FENG,DU GU QIU BAI,QIAO FENG'"
      ]
     },
     "execution_count": 53,
     "metadata": {},
     "output_type": "execute_result"
    }
   ],
   "source": [
    "names"
   ]
  },
  {
   "cell_type": "code",
   "execution_count": 54,
   "metadata": {},
   "outputs": [
    {
     "name": "stdout",
     "output_type": "stream",
     "text": [
      "[('Zhang San Feng', 14), ('Du Gu Qiu Bai', 13), ('Zhao Ming', 11), ('Chang Jiang', 11), ('Zhang Wu Ji', 11), ('Lao Wang', 10), ('Da Xiong', 10), ('Li Mei Mei', 10), ('Qiao Feng', 9), ('Li Qiang', 8), ('Li Xia', 6)]\n"
     ]
    }
   ],
   "source": [
    "def problem(names):\n",
    "    names_dict = {name.title().strip(' >*'):len(name) for name in names.split(',')}\n",
    "    print(sorted(names_dict.items(), key = lambda x :x[1], reverse = True))\n",
    "problem(names)"
   ]
  }
 ],
 "metadata": {
  "kernelspec": {
   "display_name": "Python 3",
   "language": "python",
   "name": "python3"
  },
  "language_info": {
   "codemirror_mode": {
    "name": "ipython",
    "version": 3
   },
   "file_extension": ".py",
   "mimetype": "text/x-python",
   "name": "python",
   "nbconvert_exporter": "python",
   "pygments_lexer": "ipython3",
   "version": "3.6.6"
  }
 },
 "nbformat": 4,
 "nbformat_minor": 2
}
